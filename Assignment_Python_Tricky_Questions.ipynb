{
  "nbformat": 4,
  "nbformat_minor": 0,
  "metadata": {
    "colab": {
      "name": "Assignment Python Tricky Questions",
      "provenance": [],
      "authorship_tag": "ABX9TyMwyjHVnhSERo6Ik5a5DA3v",
      "include_colab_link": true
    },
    "kernelspec": {
      "name": "python3",
      "display_name": "Python 3"
    },
    "language_info": {
      "name": "python"
    }
  },
  "cells": [
    {
      "cell_type": "markdown",
      "metadata": {
        "id": "view-in-github",
        "colab_type": "text"
      },
      "source": [
        "<a href=\"https://colab.research.google.com/github/priya606/python-tricky-questions/blob/main/Assignment_Python_Tricky_Questions.ipynb\" target=\"_parent\"><img src=\"https://colab.research.google.com/assets/colab-badge.svg\" alt=\"Open In Colab\"/></a>"
      ]
    },
    {
      "cell_type": "markdown",
      "source": [
        "### Take any value from the user, print “odd” if the value entered is odd and print “even” otherwise."
      ],
      "metadata": {
        "id": "LM-j8auEjsni"
      }
    },
    {
      "cell_type": "code",
      "source": [
        "n=int(input())\n",
        "if n%2==0:\n",
        "  print('even')\n",
        "else:\n",
        "  print('odd')"
      ],
      "metadata": {
        "colab": {
          "base_uri": "https://localhost:8080/"
        },
        "id": "_3MvZFegj009",
        "outputId": "e9b93639-6891-4cb4-c91c-6fdfb904be0a"
      },
      "execution_count": null,
      "outputs": [
        {
          "output_type": "stream",
          "name": "stdout",
          "text": [
            "3\n",
            "odd\n"
          ]
        }
      ]
    },
    {
      "cell_type": "markdown",
      "source": [
        "###Take input from the user and check if the number is a complex number. a complex\n",
        "number is the sum of a real number and an imaginary number. For example: 5+2i"
      ],
      "metadata": {
        "id": "D13xzQokkFJA"
      }
    },
    {
      "cell_type": "code",
      "source": [
        "complex = complex(input());\n",
        "print(complex.real, complex.imag);"
      ],
      "metadata": {
        "colab": {
          "base_uri": "https://localhost:8080/"
        },
        "id": "rBP10ZgikMI0",
        "outputId": "27cd51cc-23a9-4e38-934b-7eb5da8ad221"
      },
      "execution_count": null,
      "outputs": [
        {
          "output_type": "stream",
          "name": "stdout",
          "text": [
            "5+9j\n",
            "5.0 9.0\n"
          ]
        }
      ]
    },
    {
      "cell_type": "markdown",
      "source": [
        "###Create a program to enter marks from the user out of 100 and display grades as per\n",
        "the following 90-100 (A), 75 to 90 (B), 60 to 75 (C), 45 to 60 (D), 33 to 45 (E) and\n",
        "remaining all are F."
      ],
      "metadata": {
        "id": "-lgkifCZm21J"
      }
    },
    {
      "cell_type": "code",
      "source": [
        "user=int(input())\n",
        "if user>=90:\n",
        "  print('A')\n",
        "else:\n",
        "  if (user>=75 and user<90):\n",
        "    print('B')\n",
        "  else:\n",
        "    if(user>=60 and user<75):\n",
        "      print('C')\n",
        "    else:\n",
        "      if(user>=45 and user<60):\n",
        "        print('D')\n",
        "      else:\n",
        "        if(user>=33 and user<45):\n",
        "          print('E')\n",
        "        else:\n",
        "          print('F')\n",
        "\n",
        "\n",
        "\n"
      ],
      "metadata": {
        "colab": {
          "base_uri": "https://localhost:8080/"
        },
        "id": "L5ApwcCWm8jR",
        "outputId": "4629ef78-1704-476f-dd39-6494ae2f7ea9"
      },
      "execution_count": null,
      "outputs": [
        {
          "output_type": "stream",
          "name": "stdout",
          "text": [
            "20\n",
            "F\n"
          ]
        }
      ]
    },
    {
      "cell_type": "markdown",
      "source": [
        "### Say three integers have been given. Determine how many of them are equal to each\n",
        "other. Create a program to print 3 (if all 3 are same), 2 (if 2 are same) and 0 (if all\n",
        "numbers are different)"
      ],
      "metadata": {
        "id": "2rGv0wl9uEM7"
      }
    },
    {
      "cell_type": "code",
      "source": [
        "n1=int(input())\n",
        "n2=int(input())\n",
        "n3=int(input())\n",
        "if (n1==n2==n3):\n",
        "  print('3')\n",
        "else:\n",
        "  if (n1==n2 or n2==n3 or n1==n3):\n",
        "    print('2')\n",
        "  else:\n",
        "    if (n1!=n2!=n3):\n",
        "      print('0')"
      ],
      "metadata": {
        "id": "bfPbxXJvuQgw",
        "colab": {
          "base_uri": "https://localhost:8080/"
        },
        "outputId": "250bd93c-c5bb-4487-be84-0ebfe5de6b55"
      },
      "execution_count": null,
      "outputs": [
        {
          "output_type": "stream",
          "name": "stdout",
          "text": [
            "1\n",
            "1\n",
            "1\n",
            "3\n"
          ]
        }
      ]
    },
    {
      "cell_type": "markdown",
      "source": [
        "### A truck runs a distance of N kms per day. Write a program to calculate how many days will be taken to cover M kms."
      ],
      "metadata": {
        "id": "SVwlldCpvviR"
      }
    },
    {
      "cell_type": "code",
      "source": [
        "speed=int(input())\n",
        "distance=int(input())\n",
        "time=distance/speed\n",
        "print('time taken to travel is(hr):',time)\n"
      ],
      "metadata": {
        "colab": {
          "base_uri": "https://localhost:8080/"
        },
        "id": "qh9ji2jiwjB8",
        "outputId": "c2fe6dab-1aa6-40db-f9ef-7b0697b7481e"
      },
      "execution_count": null,
      "outputs": [
        {
          "output_type": "stream",
          "name": "stdout",
          "text": [
            "50\n",
            "25\n",
            "time taken to travel is(hr): 0.5\n"
          ]
        }
      ]
    },
    {
      "cell_type": "markdown",
      "source": [
        "### Write your short introduction in a text file. Your introduction consists of Name, Id,contact number, Address, Stream, Joining date, Qualification, Hobbies, Strength and weakness. Pass this file to python. Your task is to calculate total characters,numbers, words and lines used in this introduction file."
      ],
      "metadata": {
        "id": "CJ05X1OBathT"
      }
    },
    {
      "cell_type": "code",
      "source": [
        "%%writefile file.txt\n",
        "saipriya\n",
        "id:2899788\n",
        "number:987678987777\n",
        "address:khammam\n",
        "stream:cse\n",
        "hobbies:playing games\n",
        "strengths:hard working\n",
        "weakness:sensitive\n"
      ],
      "metadata": {
        "colab": {
          "base_uri": "https://localhost:8080/"
        },
        "id": "NbEEtuxYBSzf",
        "outputId": "8481c7ba-5d32-4387-d3d7-68612e1c1b05"
      },
      "execution_count": null,
      "outputs": [
        {
          "output_type": "stream",
          "name": "stdout",
          "text": [
            "Overwriting file.txt\n"
          ]
        }
      ]
    },
    {
      "cell_type": "code",
      "source": [
        "\n",
        "def counter(fname):\n",
        "    num_words = 0\n",
        "    num_lines = 0\n",
        "    num_charc = 0\n",
        "    numbers=0\n",
        "    with open('file.txt', 'r') as f:\n",
        "        for line in f:\n",
        "          num_lines += 1\n",
        "          word = 'Y'\n",
        "          for letter in line:\n",
        "            if (letter != ' ' and word == 'Y'):\n",
        "              num_words += 1\n",
        "              word = 'N'\n",
        "            for i in letter:\n",
        "                if(i !=\" \" and i !=\"\\n\"):\n",
        "                  num_charc += 1\n",
        "                          \n",
        "\n",
        "    print(\"Number of words in text file: \", num_words)\n",
        "    print(\"Number of lines in text file: \", num_lines)\n",
        "    print('Number of characters in text file: ', num_charc) \n",
        "    \n",
        "if __name__ == '__main__': \n",
        "    fname = 'file.txt'\n",
        "    try: \n",
        "        counter(fname) \n",
        "    except: \n",
        "        print('File not found')\n"
      ],
      "metadata": {
        "colab": {
          "base_uri": "https://localhost:8080/"
        },
        "id": "ZvUw3tesQD9w",
        "outputId": "19a38dbf-f18e-46dd-eaa9-73ebda55b3b8"
      },
      "execution_count": null,
      "outputs": [
        {
          "output_type": "stream",
          "name": "stdout",
          "text": [
            "Number of words in text file:  8\n",
            "Number of lines in text file:  8\n",
            "Number of characters in text file:  121\n"
          ]
        }
      ]
    },
    {
      "cell_type": "markdown",
      "source": [
        "###Create a file in read only mode. Open this file using python and try to write your contact number in that file. As this file is write protected so an exception should occur. Handle this exception using python script."
      ],
      "metadata": {
        "id": "kec_N8R4rFGk"
      }
    },
    {
      "cell_type": "code",
      "source": [
        "%%writefile saipriya.txt\n",
        "hii hope your doing good   "
      ],
      "metadata": {
        "colab": {
          "base_uri": "https://localhost:8080/"
        },
        "id": "wunm2vt0cx2W",
        "outputId": "6c59387b-d515-4c37-a605-bd54fdb63b4d"
      },
      "execution_count": null,
      "outputs": [
        {
          "output_type": "stream",
          "name": "stdout",
          "text": [
            "Overwriting saipriya.txt\n"
          ]
        }
      ]
    },
    {
      "cell_type": "code",
      "source": [
        "with open('saipriya.txt',mode='r') as f:\n",
        "  file=f.read()\n",
        "  print(file)"
      ],
      "metadata": {
        "colab": {
          "base_uri": "https://localhost:8080/"
        },
        "id": "vCjE4NmajeXj",
        "outputId": "bb5816fa-7acc-4012-f439-57dfff486b39"
      },
      "execution_count": null,
      "outputs": [
        {
          "output_type": "stream",
          "name": "stdout",
          "text": [
            "hii hope your doing good   \n"
          ]
        }
      ]
    },
    {
      "cell_type": "code",
      "source": [
        "try:\n",
        "  with open('saipriya.txt',mode='r') as f:\n",
        "    print(f.read())\n",
        "except EnvironmentError:\n",
        "  print('9987996677')"
      ],
      "metadata": {
        "colab": {
          "base_uri": "https://localhost:8080/"
        },
        "id": "ivBMNsWillCO",
        "outputId": "e6c54244-d422-487f-d0b2-bd76e8926cb7"
      },
      "execution_count": null,
      "outputs": [
        {
          "output_type": "stream",
          "name": "stdout",
          "text": [
            "hii hope your doing good   \n"
          ]
        }
      ]
    }
  ]
}